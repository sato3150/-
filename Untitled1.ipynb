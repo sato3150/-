{
  "nbformat": 4,
  "nbformat_minor": 0,
  "metadata": {
    "colab": {
      "provenance": [],
      "authorship_tag": "ABX9TyNoHwdZGL62knezvZhHPTj/",
      "include_colab_link": true
    },
    "kernelspec": {
      "name": "python3",
      "display_name": "Python 3"
    },
    "language_info": {
      "name": "python"
    }
  },
  "cells": [
    {
      "cell_type": "markdown",
      "metadata": {
        "id": "view-in-github",
        "colab_type": "text"
      },
      "source": [
        "<a href=\"https://colab.research.google.com/github/sato3150/-/blob/main/Untitled1.ipynb\" target=\"_parent\"><img src=\"https://colab.research.google.com/assets/colab-badge.svg\" alt=\"Open In Colab\"/></a>"
      ]
    },
    {
      "cell_type": "code",
      "source": [
        "!git clone https://github.com/sato3150/lecture-ai-engineering.git"
      ],
      "metadata": {
        "colab": {
          "base_uri": "https://localhost:8080/"
        },
        "id": "sbZn7ENCDokI",
        "outputId": "3ba27a90-9707-45ad-c567-05407a9fc5ed"
      },
      "execution_count": 20,
      "outputs": [
        {
          "output_type": "stream",
          "name": "stdout",
          "text": [
            "Cloning into 'lecture-ai-engineering'...\n",
            "remote: Enumerating objects: 52, done.\u001b[K\n",
            "remote: Total 52 (delta 0), reused 0 (delta 0), pack-reused 52 (from 1)\u001b[K\n",
            "Receiving objects: 100% (52/52), 83.21 KiB | 2.19 MiB/s, done.\n",
            "Resolving deltas: 100% (9/9), done.\n"
          ]
        }
      ]
    },
    {
      "cell_type": "code",
      "source": [
        "from google.colab import drive\n",
        "drive.mount('/content/drive')"
      ],
      "metadata": {
        "colab": {
          "base_uri": "https://localhost:8080/"
        },
        "id": "4CAwepZpE2RC",
        "outputId": "75b2657f-bcf6-42ff-c74c-4839f631da96"
      },
      "execution_count": 21,
      "outputs": [
        {
          "output_type": "stream",
          "name": "stdout",
          "text": [
            "Drive already mounted at /content/drive; to attempt to forcibly remount, call drive.mount(\"/content/drive\", force_remount=True).\n"
          ]
        }
      ]
    },
    {
      "cell_type": "code",
      "source": [
        "!pip install python-dotenv\n",
        "from dotenv import load_dotenv, find_dotenv\n",
        "\n",
        "%cd /content/lecture-ai-engineering/day1\n",
        "load_dotenv(find_dotenv())"
      ],
      "metadata": {
        "colab": {
          "base_uri": "https://localhost:8080/"
        },
        "id": "veo1GFlkE6O9",
        "outputId": "d8e4a785-ad21-4a5c-e3ab-f57cdcff40d4"
      },
      "execution_count": 22,
      "outputs": [
        {
          "output_type": "stream",
          "name": "stdout",
          "text": [
            "Requirement already satisfied: python-dotenv in /usr/local/lib/python3.11/dist-packages (1.1.0)\n",
            "/content/lecture-ai-engineering/day1\n"
          ]
        },
        {
          "output_type": "execute_result",
          "data": {
            "text/plain": [
              "True"
            ]
          },
          "metadata": {},
          "execution_count": 22
        }
      ]
    },
    {
      "cell_type": "code",
      "source": [
        "%cd /content/lecture-ai-engineering/day1/01_streamlit_UI"
      ],
      "metadata": {
        "colab": {
          "base_uri": "https://localhost:8080/"
        },
        "id": "ZbaumOA7FRW4",
        "outputId": "2b2454a3-2d49-40b5-97bd-48d704ff0963"
      },
      "execution_count": 24,
      "outputs": [
        {
          "output_type": "stream",
          "name": "stdout",
          "text": [
            "/content/lecture-ai-engineering/day1/01_streamlit_UI\n"
          ]
        }
      ]
    },
    {
      "cell_type": "code",
      "source": [
        "%%capture\n",
        "!pip install -r requirements.txt"
      ],
      "metadata": {
        "id": "CS9NRzIiFYPO"
      },
      "execution_count": 25,
      "outputs": []
    },
    {
      "cell_type": "code",
      "source": [
        "!ngrok authtoken $$NGROK_TOKEN"
      ],
      "metadata": {
        "colab": {
          "base_uri": "https://localhost:8080/"
        },
        "id": "x9YMRvVkFbTp",
        "outputId": "d8372e21-8a4e-44df-d282-d80baaf94437"
      },
      "execution_count": 26,
      "outputs": [
        {
          "output_type": "stream",
          "name": "stdout",
          "text": [
            "Authtoken saved to configuration file: /root/.config/ngrok/ngrok.yml\n"
          ]
        }
      ]
    },
    {
      "cell_type": "code",
      "source": [
        "from pyngrok import ngrok\n",
        "\n",
        "public_url = ngrok.connect(8501).public_url\n",
        "print(f\"公開URL: {public_url}\")\n",
        "!streamlit run app.py"
      ],
      "metadata": {
        "colab": {
          "base_uri": "https://localhost:8080/"
        },
        "id": "4MsQxzXhGatw",
        "outputId": "3f83844f-549b-487b-f12e-afd33639696a"
      },
      "execution_count": 27,
      "outputs": [
        {
          "output_type": "stream",
          "name": "stdout",
          "text": [
            "公開URL: https://d617-34-138-121-22.ngrok-free.app\n",
            "\n",
            "Collecting usage statistics. To deactivate, set browser.gatherUsageStats to false.\n",
            "\u001b[0m\n",
            "\u001b[0m\n",
            "\u001b[34m\u001b[1m  You can now view your Streamlit app in your browser.\u001b[0m\n",
            "\u001b[0m\n",
            "\u001b[34m  Local URL: \u001b[0m\u001b[1mhttp://localhost:8501\u001b[0m\n",
            "\u001b[34m  Network URL: \u001b[0m\u001b[1mhttp://172.28.0.12:8501\u001b[0m\n",
            "\u001b[34m  External URL: \u001b[0m\u001b[1mhttp://34.138.121.22:8501\u001b[0m\n",
            "\u001b[0m\n",
            "2025-05-06 10:32:22.019 Script compilation error\n",
            "Traceback (most recent call last):\n",
            "  File \"/usr/local/lib/python3.11/dist-packages/streamlit/runtime/scriptrunner/script_runner.py\", line 557, in _run_script\n",
            "    code = self._script_cache.get_bytecode(script_path)\n",
            "           ^^^^^^^^^^^^^^^^^^^^^^^^^^^^^^^^^^^^^^^^^^^^\n",
            "  File \"/usr/local/lib/python3.11/dist-packages/streamlit/runtime/scriptrunner/script_cache.py\", line 72, in get_bytecode\n",
            "    filebody = magic.add_magic(filebody, script_path)\n",
            "               ^^^^^^^^^^^^^^^^^^^^^^^^^^^^^^^^^^^^^^\n",
            "  File \"/usr/local/lib/python3.11/dist-packages/streamlit/runtime/scriptrunner/magic.py\", line 46, in add_magic\n",
            "    tree = ast.parse(code, script_path, \"exec\")\n",
            "           ^^^^^^^^^^^^^^^^^^^^^^^^^^^^^^^^^^^^\n",
            "  File \"/usr/lib/python3.11/ast.py\", line 50, in parse\n",
            "    return compile(source, filename, mode, flags,\n",
            "           ^^^^^^^^^^^^^^^^^^^^^^^^^^^^^^^^^^^^^^\n",
            "  File \"/content/lecture-ai-engineering/day1/01_streamlit_UI/app.py\", line 64\n",
            "    st.header(\"レイアウト\")\n",
            "IndentationError: unexpected indent\n",
            "2025-05-06 10:32:22.024 Thread 'MainThread': missing ScriptRunContext! This warning can be ignored when running in bare mode.\n",
            "2025-05-06 10:32:53.690 Received event for non-watched file: /content/lecture-ai-engineering/day1/01_streamlit_UI/app.py\n",
            "2025-05-06 10:33:00.074 Received event for non-watched file: /content/lecture-ai-engineering/day1/01_streamlit_UI/app.py\n",
            "2025-05-06 10:33:01.410 Script compilation error\n",
            "Traceback (most recent call last):\n",
            "  File \"/usr/local/lib/python3.11/dist-packages/streamlit/runtime/scriptrunner/script_runner.py\", line 557, in _run_script\n",
            "    code = self._script_cache.get_bytecode(script_path)\n",
            "           ^^^^^^^^^^^^^^^^^^^^^^^^^^^^^^^^^^^^^^^^^^^^\n",
            "  File \"/usr/local/lib/python3.11/dist-packages/streamlit/runtime/scriptrunner/script_cache.py\", line 72, in get_bytecode\n",
            "    filebody = magic.add_magic(filebody, script_path)\n",
            "               ^^^^^^^^^^^^^^^^^^^^^^^^^^^^^^^^^^^^^^\n",
            "  File \"/usr/local/lib/python3.11/dist-packages/streamlit/runtime/scriptrunner/magic.py\", line 46, in add_magic\n",
            "    tree = ast.parse(code, script_path, \"exec\")\n",
            "           ^^^^^^^^^^^^^^^^^^^^^^^^^^^^^^^^^^^^\n",
            "  File \"/usr/lib/python3.11/ast.py\", line 50, in parse\n",
            "    return compile(source, filename, mode, flags,\n",
            "           ^^^^^^^^^^^^^^^^^^^^^^^^^^^^^^^^^^^^^^\n",
            "  File \"/content/lecture-ai-engineering/day1/01_streamlit_UI/app.py\", line 189\n",
            "    1. コードエディタでコメントアウトされた部分を見つけます（#で始まる行）\n",
            "                                 ^\n",
            "SyntaxError: invalid character '（' (U+FF08)\n",
            "2025-05-06 10:33:01.412 Thread 'MainThread': missing ScriptRunContext! This warning can be ignored when running in bare mode.\n",
            "2025-05-06 10:33:54.031 Received event for non-watched file: /content/lecture-ai-engineering/day1/01_streamlit_UI/app.py\n",
            "2025-05-06 10:34:23.720 Received event for non-watched file: /content/lecture-ai-engineering/day1/01_streamlit_UI/app.py\n",
            "2025-05-06 10:34:53.698 Received event for non-watched file: /content/lecture-ai-engineering/day1/01_streamlit_UI/app.py\n",
            "2025-05-06 10:35:20.511 Received event for non-watched file: /content/lecture-ai-engineering/day1/01_streamlit_UI/app.py\n",
            "2025-05-06 10:35:23.834 Script compilation error\n",
            "Traceback (most recent call last):\n",
            "  File \"/usr/local/lib/python3.11/dist-packages/streamlit/runtime/scriptrunner/script_runner.py\", line 557, in _run_script\n",
            "    code = self._script_cache.get_bytecode(script_path)\n",
            "           ^^^^^^^^^^^^^^^^^^^^^^^^^^^^^^^^^^^^^^^^^^^^\n",
            "  File \"/usr/local/lib/python3.11/dist-packages/streamlit/runtime/scriptrunner/script_cache.py\", line 72, in get_bytecode\n",
            "    filebody = magic.add_magic(filebody, script_path)\n",
            "               ^^^^^^^^^^^^^^^^^^^^^^^^^^^^^^^^^^^^^^\n",
            "  File \"/usr/local/lib/python3.11/dist-packages/streamlit/runtime/scriptrunner/magic.py\", line 46, in add_magic\n",
            "    tree = ast.parse(code, script_path, \"exec\")\n",
            "           ^^^^^^^^^^^^^^^^^^^^^^^^^^^^^^^^^^^^\n",
            "  File \"/usr/lib/python3.11/ast.py\", line 50, in parse\n",
            "    return compile(source, filename, mode, flags,\n",
            "           ^^^^^^^^^^^^^^^^^^^^^^^^^^^^^^^^^^^^^^\n",
            "  File \"/content/lecture-ai-engineering/day1/01_streamlit_UI/app.py\", line 189\n",
            "    1. コードエディタでコメントアウトされた部分を見つけます（#で始まる行）\n",
            "                                 ^\n",
            "SyntaxError: invalid character '（' (U+FF08)\n",
            "2025-05-06 10:35:23.835 Thread 'MainThread': missing ScriptRunContext! This warning can be ignored when running in bare mode.\n",
            "2025-05-06 10:36:13.262 Received event for non-watched file: /content/lecture-ai-engineering/day1/01_streamlit_UI/app.py\n",
            "2025-05-06 10:36:13.262 Received event for non-watched file: /content/lecture-ai-engineering/day1/01_streamlit_UI/app.py\n",
            "2025-05-06 10:36:13.263 Received event for non-watched file: /content/lecture-ai-engineering/day1/01_streamlit_UI/app.py\n",
            "2025-05-06 10:36:13.264 Received event for non-watched file: /content/lecture-ai-engineering/day1/01_streamlit_UI/app.py\n",
            "2025-05-06 10:36:14.640 Script compilation error\n",
            "Traceback (most recent call last):\n",
            "  File \"/usr/local/lib/python3.11/dist-packages/streamlit/runtime/scriptrunner/script_runner.py\", line 557, in _run_script\n",
            "    code = self._script_cache.get_bytecode(script_path)\n",
            "           ^^^^^^^^^^^^^^^^^^^^^^^^^^^^^^^^^^^^^^^^^^^^\n",
            "  File \"/usr/local/lib/python3.11/dist-packages/streamlit/runtime/scriptrunner/script_cache.py\", line 72, in get_bytecode\n",
            "    filebody = magic.add_magic(filebody, script_path)\n",
            "               ^^^^^^^^^^^^^^^^^^^^^^^^^^^^^^^^^^^^^^\n",
            "  File \"/usr/local/lib/python3.11/dist-packages/streamlit/runtime/scriptrunner/magic.py\", line 46, in add_magic\n",
            "    tree = ast.parse(code, script_path, \"exec\")\n",
            "           ^^^^^^^^^^^^^^^^^^^^^^^^^^^^^^^^^^^^\n",
            "  File \"/usr/lib/python3.11/ast.py\", line 50, in parse\n",
            "    return compile(source, filename, mode, flags,\n",
            "           ^^^^^^^^^^^^^^^^^^^^^^^^^^^^^^^^^^^^^^\n",
            "  File \"/content/lecture-ai-engineering/day1/01_streamlit_UI/app.py\", line 203\n",
            "    \"\"\")\n",
            "    ^\n",
            "SyntaxError: unterminated triple-quoted string literal (detected at line 203)\n",
            "2025-05-06 10:36:14.642 Thread 'MainThread': missing ScriptRunContext! This warning can be ignored when running in bare mode.\n",
            "2025-05-06 10:36:34.342 Received event for non-watched file: /content/lecture-ai-engineering/day1/01_streamlit_UI/app.py\n",
            "2025-05-06 10:36:34.342 Received event for non-watched file: /content/lecture-ai-engineering/day1/01_streamlit_UI/app.py\n",
            "2025-05-06 10:36:53.722 Received event for non-watched file: /content/lecture-ai-engineering/day1/01_streamlit_UI/app.py\n",
            "2025-05-06 10:36:53.722 Received event for non-watched file: /content/lecture-ai-engineering/day1/01_streamlit_UI/app.py\n",
            "2025-05-06 10:36:58.694 Received event for non-watched file: /content/lecture-ai-engineering/day1/01_streamlit_UI/app.py\n",
            "2025-05-06 10:36:58.695 Received event for non-watched file: /content/lecture-ai-engineering/day1/01_streamlit_UI/app.py\n",
            "2025-05-06 10:37:45.337 Received event for non-watched file: /content/lecture-ai-engineering/day1/01_streamlit_UI/app.py\n",
            "2025-05-06 10:37:45.337 Received event for non-watched file: /content/lecture-ai-engineering/day1/01_streamlit_UI/app.py\n",
            "2025-05-06 10:38:12.386 Received event for non-watched file: /content/lecture-ai-engineering/day1/01_streamlit_UI/app.py\n",
            "2025-05-06 10:38:12.386 Received event for non-watched file: /content/lecture-ai-engineering/day1/01_streamlit_UI/app.py\n",
            "2025-05-06 10:38:53.706 Received event for non-watched file: /content/lecture-ai-engineering/day1/01_streamlit_UI/app.py\n",
            "2025-05-06 10:38:53.706 Received event for non-watched file: /content/lecture-ai-engineering/day1/01_streamlit_UI/app.py\n",
            "2025-05-06 10:39:00.612 Received event for non-watched file: /content/lecture-ai-engineering/day1/01_streamlit_UI/app.py\n",
            "2025-05-06 10:39:00.613 Received event for non-watched file: /content/lecture-ai-engineering/day1/01_streamlit_UI/app.py\n",
            "2025-05-06 10:39:53.707 Received event for non-watched file: /content/lecture-ai-engineering/day1/01_streamlit_UI/app.py\n",
            "2025-05-06 10:39:53.707 Received event for non-watched file: /content/lecture-ai-engineering/day1/01_streamlit_UI/app.py\n",
            "2025-05-06 10:39:53.709 Received event for non-watched file: /content/lecture-ai-engineering/day1/01_streamlit_UI/app.py\n",
            "2025-05-06 10:39:53.710 Received event for non-watched file: /content/lecture-ai-engineering/day1/01_streamlit_UI/app.py\n",
            "2025-05-06 10:40:09.917 Received event for non-watched file: /content/lecture-ai-engineering/day1/01_streamlit_UI/app.py\n",
            "2025-05-06 10:40:09.917 Received event for non-watched file: /content/lecture-ai-engineering/day1/01_streamlit_UI/app.py\n",
            "2025-05-06 10:42:23.899 Received event for non-watched file: /content/lecture-ai-engineering/day1/01_streamlit_UI/app.py\n",
            "2025-05-06 10:42:23.899 Received event for non-watched file: /content/lecture-ai-engineering/day1/01_streamlit_UI/app.py\n",
            "2025-05-06 10:42:53.327 Received event for non-watched file: /content/lecture-ai-engineering/day1/01_streamlit_UI/app.py\n",
            "2025-05-06 10:42:53.327 Received event for non-watched file: /content/lecture-ai-engineering/day1/01_streamlit_UI/app.py\n",
            "\u001b[34m  Stopping...\u001b[0m\n",
            "\u001b[34m  Stopping...\u001b[0m\n"
          ]
        }
      ]
    }
  ]
}